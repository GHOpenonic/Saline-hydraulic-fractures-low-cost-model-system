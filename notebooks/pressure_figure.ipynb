{
 "cells": [
  {
   "cell_type": "markdown",
   "id": "6751332b-ddde-4b10-8626-d454016e83b3",
   "metadata": {},
   "source": [
    "### This notebook produces the pressure figure"
   ]
  },
  {
   "cell_type": "code",
   "execution_count": 1,
   "id": "cc521337-4d72-45d3-b354-feb68cfbe103",
   "metadata": {
    "tags": []
   },
   "outputs": [
    {
     "name": "stderr",
     "output_type": "stream",
     "text": [
      "C:\\Users\\Openo\\anaconda3\\lib\\site-packages\\pandas\\core\\arrays\\masked.py:60: UserWarning: Pandas requires version '1.3.6' or newer of 'bottleneck' (version '1.3.5' currently installed).\n",
      "  from pandas.core import (\n"
     ]
    }
   ],
   "source": [
    "import numpy as np\n",
    "import pandas as pd\n",
    "import matplotlib.pyplot as plt\n",
    "plt.rcParams.update({'font.size': 16, 'axes.labelsize': 18, 'legend.fontsize': 14})"
   ]
  },
  {
   "cell_type": "code",
   "execution_count": 2,
   "id": "cccd3271-6d25-40e7-a64e-3be46297849b",
   "metadata": {
    "tags": []
   },
   "outputs": [],
   "source": [
    "# 11-28-23 SALT 6 g/l\n",
    "delimiters = r'[:,]'\n",
    "salt_6_11_28 = pd.read_csv('Pressure Data/-30_11-28-23_salt_6_l/water_data.csv',sep=delimiters,header=None,engine='python')\n",
    "salt_6_11_28_length = salt_6_11_28.index.tolist()\n",
    "\n",
    "# 11-6-23\n",
    "delimiters = r'[:,]'\n",
    "water_data_11_6 = pd.read_csv('Pressure Data/-30_11-6-23/water_data.csv',sep=delimiters,header=None,engine='python')\n",
    "length_11_6 = water_data_11_6.index.tolist()"
   ]
  },
  {
   "cell_type": "code",
   "execution_count": null,
   "id": "5c36019a-ae1f-4f36-b8bf-eadf70fd9dc7",
   "metadata": {
    "tags": []
   },
   "outputs": [],
   "source": [
    "fig, (ax1, ax2) = plt.subplots(1, 2, sharey=True, figsize=(12, 6))\n",
    "\n",
    "# Plot 1\n",
    "ax1.plot((np.array(salt_6_11_28_length) * 30) / 60 / 60, salt_6_11_28[1], 'b', label='pressure')\n",
    "ax1.set_xlabel('hours', fontsize=28)\n",
    "ax1.set_ylabel('millibars', color='b', fontsize=28)\n",
    "ax1.tick_params('y', colors='b', labelsize=20)\n",
    "ax1.set_xticks(np.arange(0, len(length_11_6), step=1))\n",
    "ax1.set_ylim(0, 3500)\n",
    "\n",
    "ax2_1 = ax1.twinx()\n",
    "ax2_1.plot((np.array(salt_6_11_28_length) * 30) / 60 / 60, salt_6_11_28[3], 'r', label='Temperature', linestyle='--')\n",
    "ax2_1.set_yticks([])  # Remove y-axis ticks\n",
    "ax2_1.set_yticklabels([])  # Remove y-axis tick labels\n",
    "\n",
    "ax1.legend(loc='lower left', fontsize=16, bbox_to_anchor=(0, 0.08))\n",
    "ax2_1.legend(loc='lower left', fontsize=16)\n",
    "\n",
    "ax1.set_xlim(0, 5)\n",
    "ax1.set_title('A', fontsize = 36)\n",
    "\n",
    "# Plot 2\n",
    "ax2.plot((np.array(length_11_6) * 30) / 60 / 60, water_data_11_6[1], 'b', label='pressure')\n",
    "ax2.set_xlabel('hours', fontsize=26)\n",
    "ax2.set_xticks(np.arange(0, len(length_11_6), step=1))\n",
    "\n",
    "ax2_2 = ax2.twinx()\n",
    "ax2_2.plot((np.array(length_11_6) * 30) / 60 / 60, water_data_11_6[3], 'r', label='Temperature', linestyle='--')\n",
    "ax2_2.set_ylabel('°C', color='r', fontsize=28)\n",
    "ax2_2.tick_params('y', colors='r', labelsize=20)\n",
    "\n",
    "#ax2.legend(loc='lower left', fontsize=12, bbox_to_anchor=(0, 0.08))\n",
    "#ax2_2.legend(loc='lower left', fontsize=12)\n",
    "\n",
    "ax2.set_xlim(0, 5)\n",
    "ax2.set_title('B', fontsize = 36)\n",
    "\n",
    "plt.tight_layout()\n",
    "#plt.savefig('temp_pressure_measurement_paper.png', dpi=450, bbox_inches='tight')\n",
    "plt.show()"
   ]
  },
  {
   "cell_type": "code",
   "execution_count": null,
   "id": "f7036918-7fa1-4280-b7ac-b0a1da8fc8d6",
   "metadata": {},
   "outputs": [],
   "source": []
  }
 ],
 "metadata": {
  "kernelspec": {
   "display_name": "Python 3 (ipykernel)",
   "language": "python",
   "name": "python3"
  },
  "language_info": {
   "codemirror_mode": {
    "name": "ipython",
    "version": 3
   },
   "file_extension": ".py",
   "mimetype": "text/x-python",
   "name": "python",
   "nbconvert_exporter": "python",
   "pygments_lexer": "ipython3",
   "version": "3.9.18"
  }
 },
 "nbformat": 4,
 "nbformat_minor": 5
}
