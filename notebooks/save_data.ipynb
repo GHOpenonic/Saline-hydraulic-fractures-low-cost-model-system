{
 "cells": [
  {
   "cell_type": "markdown",
   "id": "75637c87-a11a-415f-84c9-b474261a3c08",
   "metadata": {},
   "source": [
    "### This notebook saves experimental fracture/no_fracture data as csv"
   ]
  },
  {
   "cell_type": "code",
   "execution_count": 19,
   "id": "a2e382f8-ba9f-4ff7-bed0-8da4087cfce6",
   "metadata": {
    "tags": []
   },
   "outputs": [],
   "source": [
    "import pandas as pd"
   ]
  },
  {
   "cell_type": "code",
   "execution_count": 27,
   "id": "aa0c5753-b7e7-49a5-a934-e794253136b5",
   "metadata": {
    "tags": []
   },
   "outputs": [],
   "source": [
    "fractured=[[0.25,-30],[0,-30],[0.3,-30],[0.25,-30],[0.3,-30],[0.31,-30],[1,-70],[4,-70],[4.5,-70],[5,-70],[5.5,-70],[0.15,-10],[0.2,-10],[1,-50],[2,-50],[3.5,-60],[1,-40],[1.15,-40],[0.27,-20],[5.3,-70],[0.25,-30],[0.2,-30],[2.25,-50], [0,-40],[0,-30],[0,-30],[0,-40],[0,-5],[1,-30],[0,-30],[0,-30],[1,-30]]\n",
    "not_fractured=[[0.5,-30],[0.75,-30],[0.4,-30],[0.5,-30],[0.35,-30],[0.45,-30],[0.32,-30],[0.33,-30],[0.34,-30],[0.35,-30],[33,-70],[10,-70],[6.5,-70],[0.25,-10],[0.3,-10],[4.5,-60],[3,-50],[4,-50],[0,-5],[0.15,-5],[1.3,-40],[1.6,-40],[0.3,-20],[6.3,-70],[5.7,-70],[5.6,-70],[4.5,-60],[4,-60],[2.75,-50],[0.3,-30],[0.35,-30],[6,-30],[5,-5],[1,-30],[0.7,-30]]\n",
    "\n",
    "df_fractured = pd.DataFrame(fractured, columns=[\"salinity (g/l)\", \"temperature (C)\"])\n",
    "df_not_fractured = pd.DataFrame(not_fractured, columns=[\"salinity (g/l)\", \"temperature (C)\"])\n",
    "\n",
    "# Saving to CSV files\n",
    "df_fractured.to_csv(\"fractured.csv\", index=False)\n",
    "df_not_fractured.to_csv(\"not_fractured.csv\", index=False)"
   ]
  },
  {
   "cell_type": "code",
   "execution_count": null,
   "id": "f34b2ead-c880-45e4-806c-19abc5682505",
   "metadata": {},
   "outputs": [],
   "source": []
  }
 ],
 "metadata": {
  "kernelspec": {
   "display_name": "Python 3 (ipykernel)",
   "language": "python",
   "name": "python3"
  },
  "language_info": {
   "codemirror_mode": {
    "name": "ipython",
    "version": 3
   },
   "file_extension": ".py",
   "mimetype": "text/x-python",
   "name": "python",
   "nbconvert_exporter": "python",
   "pygments_lexer": "ipython3",
   "version": "3.9.18"
  }
 },
 "nbformat": 4,
 "nbformat_minor": 5
}
